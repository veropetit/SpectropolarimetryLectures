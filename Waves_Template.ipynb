{
  "cells": [
    {
      "cell_type": "markdown",
      "metadata": {
        "id": "tYCwNSljcB3d"
      },
      "source": [
        "# Exercices for Chapter 2"
      ]
    },
    {
      "cell_type": "markdown",
      "metadata": {
        "id": "Si8PoRyJvuTf"
      },
      "source": [
        "## Loading packages"
      ]
    },
    {
      "cell_type": "code",
      "execution_count": null,
      "metadata": {
        "id": "2XsWwIg2nK-L"
      },
      "outputs": [],
      "source": [
        "import numpy as np\n",
        "import matplotlib.pyplot as plt\n",
        "\n",
        "#import astropy.units as u\n",
        "#import astropy.constants as const"
      ]
    },
    {
      "cell_type": "markdown",
      "metadata": {
        "id": "2Uom-6jXV2M6"
      },
      "source": [
        "\n",
        "## 1. Illustration of the plane wave in space"
      ]
    },
    {
      "cell_type": "markdown",
      "metadata": {
        "id": "ESFgs586V6jR"
      },
      "source": [
        "As we have seen in class, a plane wave can be expressed as\n",
        "$$(2.7)~~~E_j(\\vec{r},t) = a_j e^{i(\\vec{k}\\cdot \\vec{r})} e^{-i (\\omega t + \\delta_j)} $$\n",
        "\n",
        "Let's start with the spatial dependence of the plane wave. If we set $t=0$, and we consider a plane wave for which the phase term $\\delta_j=0$, we simplify our expression below because the second exponential term is 1.0. \n",
        "\n",
        "In the graph below, we will make a color map that illustrated the magnitude of the electric field as a function of position.\n",
        "\n",
        "I have already defined two variables `XX` and `YY` which are 2D array that contains the x and y coordinates, respectively, of a cartesian grid of points.\n",
        "\n",
        "1. Let's make the wavelength $\\lambda=10$ distance units, and let's make the light wave propagate in a direction $\\hat{s}~$ that is oriented at $30^\\circ$ with repect to the $x$-axis. Write the cartesian components of vector $\\vec{k}$.\n",
        "\n",
        "  > Answer:\n",
        "\n",
        "2. Write the dot product $\\vec{k}\\cdot \\vec{r}$ using cartesian components.\n",
        "\n",
        "  > Answer:\n",
        "\n",
        "3. Now to make things simpler, let's calculate only one of the compoenents of $E$, say $E_x$, and let's set the amplitude $a_x=1.0$. \n",
        "  \n",
        "  a. Create a 2D array that contains $E_x$, using first the complex notation. Note that in python, you can create a $i$ by doing `1j`. \n",
        "\n",
        "  b. Use the example below to use `pcolormesh` to show a map of $E_x$ as a function of position. Note: just graph the real part of $E_x$.\n",
        "\n",
        "4. Now use the Euler identity to directly write down the real part of $E_x$ in terms of trigonometric functions, and create a 2D array for it. Plot the map for this array, to make sure that you get the same result as above. \n",
        "\n",
        "  > Answer:\n",
        "   \n"
      ]
    },
    {
      "cell_type": "code",
      "execution_count": null,
      "metadata": {
        "colab": {
          "base_uri": "https://localhost:8080/",
          "height": 287
        },
        "id": "qFt4VCZhV000",
        "outputId": "b006374a-4a98-4843-8316-aac8e859560e"
      },
      "outputs": [
        {
          "data": {
            "text/plain": [
              "<matplotlib.colorbar.Colorbar at 0x7f5e140930d0>"
            ]
          },
          "execution_count": 2,
          "metadata": {},
          "output_type": "execute_result"
        },
        {
          "data": {
            "image/png": "[encoded data removed]",
            "text/plain": [
              "<Figure size 432x288 with 2 Axes>"
            ]
          },
          "metadata": {
            "needs_background": "light"
          },
          "output_type": "display_data"
        }
      ],
      "source": [
        "x = np.linspace(0,40,800)\n",
        "y = np.linspace(0,40,800)\n",
        "XX, YY = np.meshgrid(x, y, indexing='xy')\n",
        "\n",
        "####\n",
        "lam = 10.0\n",
        "ang = np.pi/6\n",
        "a = 1\n",
        "####\n",
        "\n",
        "\n",
        "# 3a. Using the complex number notation\n",
        "\n",
        "\n",
        "# 3b. Make the figure\n",
        "\n",
        "\n",
        "# 3b. Using the cos/sin notation\n",
        "\n",
        "\n",
        "# 4b. Make the figure\n",
        "\n",
        "\n",
        "\n",
        "\n",
        "# This shows how to use the XX and YY variables\n",
        "# with the pcolormesh function. \n",
        "fig, ax = plt.subplots(1,1)\n",
        "ax.set_aspect('equal')\n",
        "toto = ax.pcolormesh(XX, YY, np.zeros(XX.shape), vmin=-1.0, vmax=1.0, cmap='seismic')\n",
        "plt.colorbar(toto)\n",
        "\n",
        "\n",
        "\n",
        "#ax.plot([0, 40*np.cos(ang)], [0, 40*np.sin(ang)], c='green', lw=4)"
      ]
    },
    {
      "cell_type": "markdown",
      "metadata": {
        "id": "jVTqUQ35sHaH"
      },
      "source": [
        "## 2. Illustration of the electric field vector with time in a single plane. "
      ]
    },
    {
      "cell_type": "markdown",
      "metadata": {
        "id": "6Z7aFId3cap4"
      },
      "source": [
        "In section 2.3, we have seen that we can express the electric field vector at a single point in space for a wave propagating in the $z$-direction as:\n",
        "$$E_{x,\\mathrm{R}}(t) = a_x \\cos(\\omega t)$$ \n",
        "and\n",
        "$$E_{y,\\mathrm{R}}(t) = a_y \\cos(\\omega t-\\delta),$$\n",
        "where $\\delta \\equiv \\delta_x - \\delta_y$ \n",
        "\n",
        "Remember that as here we will be interested in the path taken by the electric vector in the $E_{x,\\mathrm{R}}-E_{y,\\mathrm{R}}$ plane when $\\omega t$ goes from 0 to $2\\pi$, so we do not care about the position of the electric field at $t=0$. "
      ]
    },
    {
      "cell_type": "markdown",
      "metadata": {
        "id": "okD8gZnucOSP"
      },
      "source": [
        "### a. The simple case where $a_x=a_y=a$ and $\\delta=\\pi/2$. "
      ]
    },
    {
      "cell_type": "markdown",
      "metadata": {
        "id": "3RWTZn4gXCHH"
      },
      "source": [
        "For this case, we have seen that the electric field simplifies to:\n",
        "$$E_{x,\\mathrm{R}}(\\theta) = a \\cos(\\theta)$$\n",
        "and \n",
        "$$E_{y,\\mathrm{R}}(\\theta) = a \\sin(\\theta)$$\n",
        "\n",
        "In the code cell below, I have already define an array of $\\theta$ values. \n",
        "\n",
        "Make a graph of the path of the electric field vector in the $E_{x,\\mathrm{R}}-E_{y,\\mathrm{R}}$ plane\n"
      ]
    },
    {
      "cell_type": "code",
      "execution_count": null,
      "metadata": {
        "colab": {
          "base_uri": "https://localhost:8080/",
          "height": 269
        },
        "id": "blBFaHebXgMp",
        "outputId": "c38d8ad2-e0be-4986-80c6-be6c5ba8f6a1"
      },
      "outputs": [
        {
          "data": {
            "image/png": "[encoded data removed]",
            "text/plain": [
              "<Figure size 432x288 with 1 Axes>"
            ]
          },
          "metadata": {
            "needs_background": "light"
          },
          "output_type": "display_data"
        }
      ],
      "source": [
        "fig, ax = plt.subplots(1,1)\n",
        "ax.set_aspect('equal')\n",
        "\n",
        "a = 1.0\n",
        "theta = np.linspace(0,2*np.pi, 30)\n",
        "\n",
        "######## Solution ###########\n"
      ]
    },
    {
      "cell_type": "markdown",
      "metadata": {
        "id": "afVxWSaesQ4N"
      },
      "source": [
        "### b. The general case\n"
      ]
    },
    {
      "cell_type": "markdown",
      "metadata": {
        "id": "9sNEh0XiejIV"
      },
      "source": [
        "Now make a graph for the general case, where $a_x$, $a_y$, and $\\delta$ can vary.\n",
        "\n",
        "Then, let's play a detective game, using your code. By playing with the paramters, figure out what is needed for the path of the electric field to be\n",
        "\n",
        "1. A perfect circle\n",
        "\n",
        "  > Answer: \n",
        "\n",
        "2. A line that is tilted:\n",
        "\n",
        "  > Answer:\n",
        "\n",
        "3. A line that is purely vertical or horizontal\n",
        "  > Answer: \n",
        "\n",
        "3. An elipse that is not titlted (so horizontal or vertical)\n",
        "\n",
        "  > Answer:\n"
      ]
    },
    {
      "cell_type": "code",
      "execution_count": null,
      "metadata": {
        "colab": {
          "base_uri": "https://localhost:8080/",
          "height": 269
        },
        "id": "I3L2kvAHevHA",
        "outputId": "6ccf7e7f-996e-4a31-f1dc-15592efe1e72"
      },
      "outputs": [
        {
          "data": {
            "image/png": "[encoded data removed]",
            "text/plain": [
              "<Figure size 432x288 with 1 Axes>"
            ]
          },
          "metadata": {
            "needs_background": "light"
          },
          "output_type": "display_data"
        }
      ],
      "source": [
        "fig, ax = plt.subplots(1,1)\n",
        "ax.set_aspect('equal')\n",
        "\n",
        "a_x = 1.0\n",
        "a_y = 1.5\n",
        "delta = np.pi/3\n",
        "theta = np.linspace(0,2*np.pi, 30)\n",
        "\n",
        "######## Solution ###########\n",
        "\n",
        "\n",
        "\n",
        "######## Solution for the part below about the Stokes parameters."
      ]
    },
    {
      "cell_type": "markdown",
      "metadata": {
        "id": "h-3YWGmE3s6z"
      },
      "source": [
        "In the following sets of slides, we have seen that the Stokes parameters are defined as:\n",
        "\n",
        "$$I= \\kappa(a_x^2+a_y^2)$$\n",
        "$$Q= \\kappa(a_x^2-a_y^2)$$\n",
        "$$U= 2\\kappa a_xa_y\\cos\\delta$$\n",
        "$$V= 2\\kappa a_xa_y\\sin\\delta$$\n",
        "\n",
        "In your code above, calculate the Stokes paramters, and display the values of $Q/I$, $U/I$, and $V/I$ in the graph. \n",
        "\n",
        "Then, let's play the detective again, using your code. For the cases we discussed above, what are the values of the Stokes parameters?\n",
        "\n",
        "1. A perfect circle\n",
        "\n",
        "  > Answer: \n",
        "\n",
        "2. A line that is tilted:\n",
        "\n",
        "  > Answer:\n",
        "\n",
        "3. A line that is purely vertical or horizontal\n",
        "  > Answer:   \n",
        "\n",
        "3. An elipse that is not titlted (so horizontal or vertical)\n",
        "\n",
        "  > Answer:"
      ]
    },
    {
      "cell_type": "code",
      "execution_count": null,
      "metadata": {
        "id": "pqaVlP-B7PQF"
      },
      "outputs": [],
      "source": []
    }
  ],
  "metadata": {
    "colab": {
      "collapsed_sections": [
        "Si8PoRyJvuTf"
      ],
      "provenance": []
    },
    "kernelspec": {
      "display_name": "Python 3.9.6 64-bit",
      "language": "python",
      "name": "python3"
    },
    "language_info": {
      "name": "python",
      "version": "3.9.6"
    },
    "vscode": {
      "interpreter": {
        "hash": "31f2aee4e71d21fbe5cf8b01ff0e069b9275f58929596ceb00d14d90e3e16cd6"
      }
    }
  },
  "nbformat": 4,
  "nbformat_minor": 0
}
