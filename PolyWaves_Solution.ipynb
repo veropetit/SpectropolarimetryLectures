{
 "cells": [
  {
   "cell_type": "code",
   "execution_count": null,
   "metadata": {},
   "outputs": [],
   "source": []
  },
  {
   "cell_type": "code",
   "execution_count": null,
   "metadata": {},
   "outputs": [],
   "source": [
    "## fourrier transform of a box\n",
    "import copy\n",
    "\n",
    "def my_ft(time, func, freq):\n",
    "  '''\n",
    "  A function to calculate FT manually.\n",
    "  time: the time array (needs to be regular)\n",
    "  func: the function of time\n",
    "  freq: the desired array of frequencies. \n",
    "  '''\n",
    "  ft = np. empty(freq.shape, complex)\n",
    "  dt = time[1]-time[0]\n",
    "  for i in range(0,freq.size):\n",
    "    ft[i] = dt * np.sum( func*np.exp(-1.j*2*np.pi*freq[i]*time) )\n",
    "\n",
    "  return(ft)\n",
    "\n",
    "def my_ift(freq, func, time):\n",
    "  '''\n",
    "  A function to calculate inverse FT manually.\n",
    "  freq: the frequency array (needs to be regular)\n",
    "  func: the function of frequency\n",
    "  time: the desired array of times. \n",
    "  '''\n",
    "  ift = np. empty(time.shape, complex)\n",
    "  df = freq[1]-freq[0]\n",
    "  for i in range(0,time.size):\n",
    "    ift[i] = df * np.sum( func*np.exp(-1.j*2*np.pi*time[i]*freq) )\n",
    "\n",
    "  return(ift)"
   ]
  }
 ],
 "metadata": {
  "kernelspec": {
   "display_name": "Python 3.9.6 64-bit",
   "language": "python",
   "name": "python3"
  },
  "language_info": {
   "name": "python",
   "version": "3.9.6"
  },
  "orig_nbformat": 4,
  "vscode": {
   "interpreter": {
    "hash": "31f2aee4e71d21fbe5cf8b01ff0e069b9275f58929596ceb00d14d90e3e16cd6"
   }
  }
 },
 "nbformat": 4,
 "nbformat_minor": 2
}
