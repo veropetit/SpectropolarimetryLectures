{
 "cells": [
  {
   "cell_type": "markdown",
   "metadata": {},
   "source": [
    "# LSD profiles"
   ]
  },
  {
   "cell_type": "markdown",
   "metadata": {},
   "source": [
    "This notebook contains exercises to understand the concept of LSD profiles"
   ]
  },
  {
   "cell_type": "markdown",
   "metadata": {},
   "source": [
    "## 0. Import packages"
   ]
  },
  {
   "cell_type": "code",
   "execution_count": 1,
   "metadata": {},
   "outputs": [],
   "source": [
    "import numpy as np\n",
    "import matplotlib.pyplot as plt\n",
    "import astropy.constants as const\n",
    "import astropy.units as u"
   ]
  },
  {
   "cell_type": "markdown",
   "metadata": {},
   "source": [
    "## 1. Simple toy code to illustrate the concept of an observed spectrum being a convolution of a line mask and a profile shape"
   ]
  },
  {
   "cell_type": "markdown",
   "metadata": {},
   "source": [
    "The LSD method relies on the approximation that the shape of spectral lines all have similar shapes, that are scaled by a factor called the *weigth* (a depth for intensity line profiles, and depth x wavelength x lande factor for Stokes V)\n",
    "\n",
    "In this case, we can therefore think of a star's spectrum as being the convolution of a *mask* $M$ function with delta diracs at the position of each spectral lines (with a value corresponding the weigth of the spectral lines) and a profile shape $Z$ (the LSD profile)."
   ]
  },
  {
   "cell_type": "markdown",
   "metadata": {},
   "source": [
    "In the first activity below, we illustrate this convolution process. We use a simple triangular shape for the $Z$ profile. The mask function is 25 units long, and has a delta dirac at positions 1, 6, and 16. "
   ]
  },
  {
   "cell_type": "code",
   "execution_count": null,
   "metadata": {},
   "outputs": [
    {
     "data": {
      "text/plain": [
       "[<matplotlib.lines.Line2D at 0x7f897aae85e0>]"
      ]
     },
     "metadata": {},
     "output_type": "display_data"
    },
    {
     "data": {
      "image/png": "[encoded data removed]",
      "text/plain": [
       "<Figure size 640x480 with 2 Axes>"
      ]
     },
     "metadata": {},
     "output_type": "display_data"
    }
   ],
   "source": [
    "Z = np.array([0, 1, 2, 3, 2, 1, 0])\n",
    "lines = [1, 6, 16]\n",
    "nM = 25\n",
    "M = np.zeros(nM)\n",
    "M[lines]=1\n",
    "\n",
    "fig, ax = plt.subplots(2,1)\n",
    "ax[0].scatter(np.arange(0,M.size,1),M)\n",
    "ax[1].plot(Z)"
   ]
  },
  {
   "cell_type": "markdown",
   "metadata": {},
   "source": [
    "a. In the cell below, create your own function to calculate a convolution"
   ]
  },
  {
   "cell_type": "code",
   "execution_count": null,
   "metadata": {},
   "outputs": [],
   "source": [
    "\n"
   ]
  },
  {
   "cell_type": "markdown",
   "metadata": {},
   "source": [
    "b. Now in the cell below, calculate and graph the convolution between $M$ and $Z$"
   ]
  },
  {
   "cell_type": "code",
   "execution_count": null,
   "metadata": {},
   "outputs": [],
   "source": []
  },
  {
   "cell_type": "markdown",
   "metadata": {},
   "source": [
    "## 2. Matrix version of a convolution"
   ]
  },
  {
   "cell_type": "markdown",
   "metadata": {},
   "source": [
    "We can also write a convolution as being the dot product between a matrix representation of the mask and the profile shape"
   ]
  },
  {
   "cell_type": "markdown",
   "metadata": {},
   "source": [
    "a. In the cell below, you can see that I have already created an empty matrix for the Mask array (`M_mat`). Now fill in the associated diagonals with ones. Print you matrix to make sure it is correct\n",
    "\n",
    "Hint: As we saw in class, we can use a padded version of the `M` array to create a loop that assigns a slice of this array shifted according to the loop index. "
   ]
  },
  {
   "cell_type": "code",
   "execution_count": 2,
   "metadata": {},
   "outputs": [],
   "source": [
    "Z = np.array([0, 1, 2, 3, 2, 1, 0])\n",
    "lines = [1, 6, 16]\n",
    "nM = 25\n",
    "M = np.zeros(nM)\n",
    "M[lines]=1\n",
    "\n",
    "# create a matrix filled with zeros for M\n",
    "M_mat = np.zeros((nM, Z.size))\n",
    "\n"
   ]
  },
  {
   "cell_type": "markdown",
   "metadata": {},
   "source": [
    "b. Now let's make the convolution by taking the dot product of $\\bar{M}$ and $\\vec{Z}$. Make a graph of the result"
   ]
  },
  {
   "cell_type": "code",
   "execution_count": null,
   "metadata": {},
   "outputs": [],
   "source": []
  },
  {
   "cell_type": "markdown",
   "metadata": {},
   "source": [
    "## 3. Inversion of the simple toy model"
   ]
  },
  {
   "cell_type": "markdown",
   "metadata": {},
   "source": [
    "In the previous section, we have seen that $\\vec{V}=\\bar{M}\\cdot\\vec{Z}$. We can now 'invert' this problem, aka find the least square fit to this system of equation. \n",
    "\n",
    "$$\\vec{Z}_\\mathrm{min} = (\\bar{M}^T\\bar{M})^{-1} \\bar{M}^T\\vec{V}$$"
   ]
  },
  {
   "cell_type": "code",
   "execution_count": null,
   "metadata": {},
   "outputs": [],
   "source": []
  },
  {
   "cell_type": "markdown",
   "metadata": {},
   "source": [
    "b. Just for fun, let's check what this would look like if we were to add some noise to the data array"
   ]
  },
  {
   "cell_type": "code",
   "execution_count": null,
   "metadata": {},
   "outputs": [],
   "source": []
  },
  {
   "cell_type": "markdown",
   "metadata": {},
   "source": [
    "## 4. A more realistic example"
   ]
  }
 ],
 "metadata": {
  "kernelspec": {
   "display_name": "Python 3.9.15 ('py39')",
   "language": "python",
   "name": "python3"
  },
  "language_info": {
   "codemirror_mode": {
    "name": "ipython",
    "version": 3
   },
   "file_extension": ".py",
   "mimetype": "text/x-python",
   "name": "python",
   "nbconvert_exporter": "python",
   "pygments_lexer": "ipython3",
   "version": "3.9.15"
  },
  "orig_nbformat": 4,
  "vscode": {
   "interpreter": {
    "hash": "0d105923ff2751b07541a5477823aa5d88058b2fa83b28e1bf4a447aeb52c9df"
   }
  }
 },
 "nbformat": 4,
 "nbformat_minor": 2
}
